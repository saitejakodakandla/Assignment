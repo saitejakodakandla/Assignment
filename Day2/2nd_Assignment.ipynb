{
 "cells": [
  {
   "cell_type": "code",
   "execution_count": null,
   "id": "cecbc7ff",
   "metadata": {},
   "outputs": [],
   "source": [
    "1. Generate random data with NumPy for 1000 data points with 2 columns only."
   ]
  },
  {
   "cell_type": "code",
   "execution_count": null,
   "id": "24c9fe6d",
   "metadata": {},
   "outputs": [],
   "source": [
    "import numpy as np\n",
    "rand_int2 = np.random.randint(0,1000,(2,2))\n",
    "print(\"Second array\", rand_int2)"
   ]
  },
  {
   "cell_type": "code",
   "execution_count": null,
   "id": "f002565f",
   "metadata": {},
   "outputs": [],
   "source": [
    "2. Plot Scatter plot, line plot with that in all variations we covered in the class."
   ]
  },
  {
   "cell_type": "code",
   "execution_count": null,
   "id": "a692bd20",
   "metadata": {},
   "outputs": [],
   "source": [
    "x = np.array([i*2 for i in range(1, 11)])\n",
    "y1 = np.array([i*2 for i in range(1, 11)])\n",
    "\n",
    " \n",
    "\n",
    "y2 = np.array([3, 6, 9, 12, 15, 18, 21, 24, 27, 30])\n",
    "\n",
    " \n",
    "\n",
    "\n",
    "dataset = [(x, y1),\n",
    "(x, y2)]\n",
    "\n",
    " \n",
    "\n",
    "\n",
    "plt.scatter(dataset[0][0], dataset[0][1], c=\"red\",label=\"From X1, Y1\")\n",
    "plt.plot(dataset[1][0], dataset[1][1], c=\"green\", label=\"From X2, Y2\")\n",
    "plt.title(\"Labelled lines\")\n",
    "plt.xlabel(\"$X-axis$\")\n",
    "plt.ylabel(\"$Y-axis$\")\n",
    "plt.legend()\n",
    "plt.show()"
   ]
  },
  {
   "cell_type": "code",
   "execution_count": null,
   "id": "a7ec8c40",
   "metadata": {},
   "outputs": [],
   "source": [
    "4. Apply simple linear regression and submit it as an assignment."
   ]
  },
  {
   "cell_type": "code",
   "execution_count": null,
   "id": "b00f350e",
   "metadata": {},
   "outputs": [],
   "source": [
    "# Visualizing the Training set results \n",
    "viz_train = plt viz_train.scatter(X_train, y_train, color='red') \n",
    "viz_train.plot(X_train, regressor.predict(X_train), color='blue') \n",
    "viz_train.title('Salary VS Experience (Training set)') \n",
    "viz_train.xlabel('Year of Experience') viz_train.ylabel('Salary') \n",
    "viz_train.show() \n",
    "# Visualizing the Test set results \n",
    "viz_test = plt viz_test.scatter(X_test, y_test, color='red') \n",
    "viz_test.plot(X_train, regressor.predict(X_train), color='blue') \n",
    "viz_test.title('Salary VS Experience (Test set)') \n",
    "viz_test.xlabel('Year of Experience')\n",
    "viz_test.ylabel('Salary') \n",
    "viz_test.show()"
   ]
  }
 ],
 "metadata": {
  "kernelspec": {
   "display_name": "Python 3",
   "language": "python",
   "name": "python3"
  },
  "language_info": {
   "codemirror_mode": {
    "name": "ipython",
    "version": 3
   },
   "file_extension": ".py",
   "mimetype": "text/x-python",
   "name": "python",
   "nbconvert_exporter": "python",
   "pygments_lexer": "ipython3",
   "version": "3.8.8"
  }
 },
 "nbformat": 4,
 "nbformat_minor": 5
}
